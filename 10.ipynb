{
 "cells": [
  {
   "cell_type": "markdown",
   "id": "6a356554",
   "metadata": {},
   "source": [
    "Python function to find the sum of all numbers in a list:"
   ]
  },
  {
   "cell_type": "code",
   "execution_count": 1,
   "id": "0f8c09f7",
   "metadata": {},
   "outputs": [
    {
     "name": "stdout",
     "output_type": "stream",
     "text": [
      "Sum of numbers: 28\n"
     ]
    }
   ],
   "source": [
    "def sum_of_numbers(numbers):\n",
    "    total = 0\n",
    "    for num in numbers:\n",
    "        total += num\n",
    "    return total\n",
    "\n",
    "# Example usage\n",
    "numbers = [5, 2, 8, 1, 9, 3]\n",
    "sum_of_all = sum_of_numbers(numbers)\n",
    "print(\"Sum of numbers:\", sum_of_all)\n"
   ]
  },
  {
   "cell_type": "code",
   "execution_count": null,
   "id": "bea389b8",
   "metadata": {},
   "outputs": [],
   "source": []
  }
 ],
 "metadata": {
  "kernelspec": {
   "display_name": "Python 3 (ipykernel)",
   "language": "python",
   "name": "python3"
  },
  "language_info": {
   "codemirror_mode": {
    "name": "ipython",
    "version": 3
   },
   "file_extension": ".py",
   "mimetype": "text/x-python",
   "name": "python",
   "nbconvert_exporter": "python",
   "pygments_lexer": "ipython3",
   "version": "3.10.9"
  }
 },
 "nbformat": 4,
 "nbformat_minor": 5
}
