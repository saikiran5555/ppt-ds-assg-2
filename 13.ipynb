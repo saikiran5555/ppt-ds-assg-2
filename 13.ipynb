{
 "cells": [
  {
   "cell_type": "markdown",
   "id": "b80342dc",
   "metadata": {},
   "source": [
    "Python program to generate all permutations of a given string:"
   ]
  },
  {
   "cell_type": "code",
   "execution_count": 1,
   "id": "1e9e307c",
   "metadata": {},
   "outputs": [
    {
     "name": "stdout",
     "output_type": "stream",
     "text": [
      "Permutations of abc: ['abc', 'acb', 'bac', 'bca', 'cab', 'cba']\n"
     ]
    }
   ],
   "source": [
    "from itertools import permutations\n",
    "\n",
    "def generate_permutations(string):\n",
    "    perms = [''.join(perm) for perm in permutations(string)]\n",
    "    return perms\n",
    "\n",
    "# Example usage\n",
    "string = \"abc\"\n",
    "permutations = generate_permutations(string)\n",
    "print(\"Permutations of\", string + \":\", permutations)\n"
   ]
  },
  {
   "cell_type": "code",
   "execution_count": null,
   "id": "2285c6d7",
   "metadata": {},
   "outputs": [],
   "source": []
  }
 ],
 "metadata": {
  "kernelspec": {
   "display_name": "Python 3 (ipykernel)",
   "language": "python",
   "name": "python3"
  },
  "language_info": {
   "codemirror_mode": {
    "name": "ipython",
    "version": 3
   },
   "file_extension": ".py",
   "mimetype": "text/x-python",
   "name": "python",
   "nbconvert_exporter": "python",
   "pygments_lexer": "ipython3",
   "version": "3.10.9"
  }
 },
 "nbformat": 4,
 "nbformat_minor": 5
}
