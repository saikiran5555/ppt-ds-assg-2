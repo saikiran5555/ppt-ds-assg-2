{
 "cells": [
  {
   "cell_type": "markdown",
   "id": "7c4c6bdd",
   "metadata": {},
   "source": [
    "Python function to check if a given string is a palindrome:"
   ]
  },
  {
   "cell_type": "code",
   "execution_count": 1,
   "id": "07e918b2",
   "metadata": {},
   "outputs": [
    {
     "name": "stdout",
     "output_type": "stream",
     "text": [
      "The string is a palindrome.\n"
     ]
    }
   ],
   "source": [
    "def is_palindrome(input_string):\n",
    "    # Remove whitespace and convert to lowercase\n",
    "    input_string = input_string.replace(\" \", \"\").lower()\n",
    "    \n",
    "    # Check if the string is equal to its reverse\n",
    "    reversed_string = input_string[::-1]\n",
    "    if input_string == reversed_string:\n",
    "        return True\n",
    "    else:\n",
    "        return False\n",
    "\n",
    "# Example usage\n",
    "string_to_check = \"A man a plan a canal Panama\"\n",
    "if is_palindrome(string_to_check):\n",
    "    print(\"The string is a palindrome.\")\n",
    "else:\n",
    "    print(\"The string is not a palindrome.\")\n"
   ]
  },
  {
   "cell_type": "code",
   "execution_count": null,
   "id": "c7e9c7ea",
   "metadata": {},
   "outputs": [],
   "source": []
  }
 ],
 "metadata": {
  "kernelspec": {
   "display_name": "Python 3 (ipykernel)",
   "language": "python",
   "name": "python3"
  },
  "language_info": {
   "codemirror_mode": {
    "name": "ipython",
    "version": 3
   },
   "file_extension": ".py",
   "mimetype": "text/x-python",
   "name": "python",
   "nbconvert_exporter": "python",
   "pygments_lexer": "ipython3",
   "version": "3.10.9"
  }
 },
 "nbformat": 4,
 "nbformat_minor": 5
}
