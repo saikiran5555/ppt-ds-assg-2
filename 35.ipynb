{
 "cells": [
  {
   "cell_type": "markdown",
   "id": "f93b7e9e",
   "metadata": {},
   "source": [
    "Python program to check if a given number is a perfect square:"
   ]
  },
  {
   "cell_type": "code",
   "execution_count": 1,
   "id": "5e2689c1",
   "metadata": {},
   "outputs": [
    {
     "name": "stdout",
     "output_type": "stream",
     "text": [
      "16 is a perfect square.\n"
     ]
    }
   ],
   "source": [
    "def is_perfect_square(num):\n",
    "    if num < 0:\n",
    "        return False\n",
    "    elif num == 0:\n",
    "        return True\n",
    "\n",
    "    left = 1\n",
    "    right = num\n",
    "\n",
    "    while left <= right:\n",
    "        mid = (left + right) // 2\n",
    "        square = mid * mid\n",
    "\n",
    "        if square == num:\n",
    "            return True\n",
    "        elif square < num:\n",
    "            left = mid + 1\n",
    "        else:\n",
    "            right = mid - 1\n",
    "\n",
    "    return False\n",
    "\n",
    "# Example usage\n",
    "number = 16\n",
    "result = is_perfect_square(number)\n",
    "if result:\n",
    "    print(number, \"is a perfect square.\")\n",
    "else:\n",
    "    print(number, \"is not a perfect square.\")\n"
   ]
  },
  {
   "cell_type": "code",
   "execution_count": null,
   "id": "1690adfd",
   "metadata": {},
   "outputs": [],
   "source": []
  }
 ],
 "metadata": {
  "kernelspec": {
   "display_name": "Python 3 (ipykernel)",
   "language": "python",
   "name": "python3"
  },
  "language_info": {
   "codemirror_mode": {
    "name": "ipython",
    "version": 3
   },
   "file_extension": ".py",
   "mimetype": "text/x-python",
   "name": "python",
   "nbconvert_exporter": "python",
   "pygments_lexer": "ipython3",
   "version": "3.10.9"
  }
 },
 "nbformat": 4,
 "nbformat_minor": 5
}
