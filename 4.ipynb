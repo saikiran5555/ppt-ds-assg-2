{
 "cells": [
  {
   "cell_type": "markdown",
   "id": "71bce38e",
   "metadata": {},
   "source": [
    "Python function to count the occurrence of each element in a list:"
   ]
  },
  {
   "cell_type": "code",
   "execution_count": 1,
   "id": "a66cfd79",
   "metadata": {},
   "outputs": [
    {
     "name": "stdout",
     "output_type": "stream",
     "text": [
      "Element occurrence count: {2: 3, 3: 2, 4: 3, 5: 3}\n"
     ]
    }
   ],
   "source": [
    "def count_elements(lst):\n",
    "    element_count = {}\n",
    "    for element in lst:\n",
    "        if element in element_count:\n",
    "            element_count[element] += 1\n",
    "        else:\n",
    "            element_count[element] = 1\n",
    "    return element_count\n",
    "\n",
    "# Example usage\n",
    "numbers = [2, 3, 4, 2, 5, 3, 4, 2, 4, 5, 5]\n",
    "occurrence = count_elements(numbers)\n",
    "print(\"Element occurrence count:\", occurrence)\n"
   ]
  },
  {
   "cell_type": "code",
   "execution_count": null,
   "id": "7e02b780",
   "metadata": {},
   "outputs": [],
   "source": []
  }
 ],
 "metadata": {
  "kernelspec": {
   "display_name": "Python 3 (ipykernel)",
   "language": "python",
   "name": "python3"
  },
  "language_info": {
   "codemirror_mode": {
    "name": "ipython",
    "version": 3
   },
   "file_extension": ".py",
   "mimetype": "text/x-python",
   "name": "python",
   "nbconvert_exporter": "python",
   "pygments_lexer": "ipython3",
   "version": "3.10.9"
  }
 },
 "nbformat": 4,
 "nbformat_minor": 5
}
