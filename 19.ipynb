{
 "cells": [
  {
   "cell_type": "markdown",
   "id": "d197e054",
   "metadata": {},
   "source": [
    " Python program to remove all vowels from a given string:"
   ]
  },
  {
   "cell_type": "code",
   "execution_count": 1,
   "id": "2f1d86a8",
   "metadata": {},
   "outputs": [
    {
     "name": "stdout",
     "output_type": "stream",
     "text": [
      "Filtered String: Hll, Wrld!\n"
     ]
    }
   ],
   "source": [
    "def remove_vowels(string):\n",
    "    vowels = \"aeiouAEIOU\"\n",
    "    filtered_string = \"\"\n",
    "    for char in string:\n",
    "        if char not in vowels:\n",
    "            filtered_string += char\n",
    "    return filtered_string\n",
    "\n",
    "# Example usage\n",
    "string = \"Hello, World!\"\n",
    "filtered_string = remove_vowels(string)\n",
    "print(\"Filtered String:\", filtered_string)\n"
   ]
  },
  {
   "cell_type": "code",
   "execution_count": null,
   "id": "66c22db3",
   "metadata": {},
   "outputs": [],
   "source": []
  }
 ],
 "metadata": {
  "kernelspec": {
   "display_name": "Python 3 (ipykernel)",
   "language": "python",
   "name": "python3"
  },
  "language_info": {
   "codemirror_mode": {
    "name": "ipython",
    "version": 3
   },
   "file_extension": ".py",
   "mimetype": "text/x-python",
   "name": "python",
   "nbconvert_exporter": "python",
   "pygments_lexer": "ipython3",
   "version": "3.10.9"
  }
 },
 "nbformat": 4,
 "nbformat_minor": 5
}
