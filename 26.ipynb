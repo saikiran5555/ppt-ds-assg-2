{
 "cells": [
  {
   "cell_type": "markdown",
   "id": "e9bb6609",
   "metadata": {},
   "source": [
    "Python function to find the mode of a list of numbers:"
   ]
  },
  {
   "cell_type": "code",
   "execution_count": 1,
   "id": "233127a7",
   "metadata": {},
   "outputs": [
    {
     "name": "stdout",
     "output_type": "stream",
     "text": [
      "Mode(s): [2]\n"
     ]
    }
   ],
   "source": [
    "def find_mode(numbers):\n",
    "    frequency = {}\n",
    "    for num in numbers:\n",
    "        frequency[num] = frequency.get(num, 0) + 1\n",
    "    max_frequency = max(frequency.values())\n",
    "    modes = [num for num, freq in frequency.items() if freq == max_frequency]\n",
    "    return modes\n",
    "\n",
    "# Example usage\n",
    "numbers = [1, 2, 3, 2, 4, 5, 2, 6, 2, 7, 2]\n",
    "modes = find_mode(numbers)\n",
    "print(\"Mode(s):\", modes)\n"
   ]
  },
  {
   "cell_type": "code",
   "execution_count": null,
   "id": "35fba5f8",
   "metadata": {},
   "outputs": [],
   "source": []
  }
 ],
 "metadata": {
  "kernelspec": {
   "display_name": "Python 3 (ipykernel)",
   "language": "python",
   "name": "python3"
  },
  "language_info": {
   "codemirror_mode": {
    "name": "ipython",
    "version": 3
   },
   "file_extension": ".py",
   "mimetype": "text/x-python",
   "name": "python",
   "nbconvert_exporter": "python",
   "pygments_lexer": "ipython3",
   "version": "3.10.9"
  }
 },
 "nbformat": 4,
 "nbformat_minor": 5
}
