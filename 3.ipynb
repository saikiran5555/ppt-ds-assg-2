{
 "cells": [
  {
   "cell_type": "markdown",
   "id": "ad967802",
   "metadata": {},
   "source": [
    "Python program to find the largest element in a given list:"
   ]
  },
  {
   "cell_type": "code",
   "execution_count": 1,
   "id": "23fe0dc0",
   "metadata": {},
   "outputs": [
    {
     "name": "stdout",
     "output_type": "stream",
     "text": [
      "The largest element is: 91\n"
     ]
    }
   ],
   "source": [
    "def find_largest_element(lst):\n",
    "    if not lst:\n",
    "        return None\n",
    "\n",
    "    largest_element = lst[0]\n",
    "    for num in lst:\n",
    "        if num > largest_element:\n",
    "            largest_element = num\n",
    "\n",
    "    return largest_element\n",
    "\n",
    "# Example usage\n",
    "numbers = [12, 45, 78, 34, 56, 91, 23]\n",
    "largest = find_largest_element(numbers)\n",
    "print(\"The largest element is:\", largest)\n"
   ]
  },
  {
   "cell_type": "code",
   "execution_count": null,
   "id": "e19954e6",
   "metadata": {},
   "outputs": [],
   "source": []
  }
 ],
 "metadata": {
  "kernelspec": {
   "display_name": "Python 3 (ipykernel)",
   "language": "python",
   "name": "python3"
  },
  "language_info": {
   "codemirror_mode": {
    "name": "ipython",
    "version": 3
   },
   "file_extension": ".py",
   "mimetype": "text/x-python",
   "name": "python",
   "nbconvert_exporter": "python",
   "pygments_lexer": "ipython3",
   "version": "3.10.9"
  }
 },
 "nbformat": 4,
 "nbformat_minor": 5
}
