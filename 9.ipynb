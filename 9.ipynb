{
 "cells": [
  {
   "cell_type": "markdown",
   "id": "e85523d5",
   "metadata": {},
   "source": [
    "Python program to sort a list of integers in ascending order using the built-in sort() method:"
   ]
  },
  {
   "cell_type": "code",
   "execution_count": 1,
   "id": "d0c954d5",
   "metadata": {},
   "outputs": [
    {
     "name": "stdout",
     "output_type": "stream",
     "text": [
      "Sorted list: [1, 2, 3, 5, 8, 9]\n"
     ]
    }
   ],
   "source": [
    "def sort_list(numbers):\n",
    "    numbers.sort()\n",
    "\n",
    "# Example usage\n",
    "numbers = [5, 2, 8, 1, 9, 3]\n",
    "sort_list(numbers)\n",
    "print(\"Sorted list:\", numbers)\n"
   ]
  },
  {
   "cell_type": "code",
   "execution_count": null,
   "id": "330700e5",
   "metadata": {},
   "outputs": [],
   "source": []
  }
 ],
 "metadata": {
  "kernelspec": {
   "display_name": "Python 3 (ipykernel)",
   "language": "python",
   "name": "python3"
  },
  "language_info": {
   "codemirror_mode": {
    "name": "ipython",
    "version": 3
   },
   "file_extension": ".py",
   "mimetype": "text/x-python",
   "name": "python",
   "nbconvert_exporter": "python",
   "pygments_lexer": "ipython3",
   "version": "3.10.9"
  }
 },
 "nbformat": 4,
 "nbformat_minor": 5
}
