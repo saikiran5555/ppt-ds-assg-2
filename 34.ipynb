{
 "cells": [
  {
   "cell_type": "markdown",
   "id": "f0a92990",
   "metadata": {},
   "source": [
    "Python function to find the longest common prefix among a list of strings:"
   ]
  },
  {
   "cell_type": "code",
   "execution_count": 1,
   "id": "4ad10588",
   "metadata": {},
   "outputs": [
    {
     "name": "stdout",
     "output_type": "stream",
     "text": [
      "Longest common prefix: fl\n"
     ]
    }
   ],
   "source": [
    "def longest_common_prefix(strs):\n",
    "    if not strs:\n",
    "        return \"\"\n",
    "\n",
    "    # Find the shortest string in the list\n",
    "    shortest_str = min(strs, key=len)\n",
    "\n",
    "    for i, char in enumerate(shortest_str):\n",
    "        for other_str in strs:\n",
    "            if other_str[i] != char:\n",
    "                return shortest_str[:i]\n",
    "\n",
    "    return shortest_str\n",
    "\n",
    "# Example usage\n",
    "strings = [\"flower\", \"flow\", \"flight\"]\n",
    "result = longest_common_prefix(strings)\n",
    "print(\"Longest common prefix:\", result)\n"
   ]
  },
  {
   "cell_type": "code",
   "execution_count": null,
   "id": "d1a2847d",
   "metadata": {},
   "outputs": [],
   "source": []
  }
 ],
 "metadata": {
  "kernelspec": {
   "display_name": "Python 3 (ipykernel)",
   "language": "python",
   "name": "python3"
  },
  "language_info": {
   "codemirror_mode": {
    "name": "ipython",
    "version": 3
   },
   "file_extension": ".py",
   "mimetype": "text/x-python",
   "name": "python",
   "nbconvert_exporter": "python",
   "pygments_lexer": "ipython3",
   "version": "3.10.9"
  }
 },
 "nbformat": 4,
 "nbformat_minor": 5
}
