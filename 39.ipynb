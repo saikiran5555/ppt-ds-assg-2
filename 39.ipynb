{
 "cells": [
  {
   "cell_type": "markdown",
   "id": "4dc29a9f",
   "metadata": {},
   "source": [
    "Python program to find the sum of digits of a given number:"
   ]
  },
  {
   "cell_type": "code",
   "execution_count": 1,
   "id": "d51676a9",
   "metadata": {},
   "outputs": [
    {
     "name": "stdout",
     "output_type": "stream",
     "text": [
      "Sum of digits: 15\n"
     ]
    }
   ],
   "source": [
    "def sum_of_digits(number):\n",
    "    # Convert the number to a string\n",
    "    number_str = str(number)\n",
    "\n",
    "    # Initialize the sum variable\n",
    "    digit_sum = 0\n",
    "\n",
    "    # Iterate over each character in the string\n",
    "    for digit_char in number_str:\n",
    "        # Convert the character back to an integer and add it to the sum\n",
    "        digit_sum += int(digit_char)\n",
    "\n",
    "    return digit_sum\n",
    "\n",
    "# Example usage\n",
    "my_number = 12345\n",
    "result = sum_of_digits(my_number)\n",
    "print(\"Sum of digits:\", result)\n"
   ]
  },
  {
   "cell_type": "code",
   "execution_count": null,
   "id": "7c83e1c8",
   "metadata": {},
   "outputs": [],
   "source": []
  }
 ],
 "metadata": {
  "kernelspec": {
   "display_name": "Python 3 (ipykernel)",
   "language": "python",
   "name": "python3"
  },
  "language_info": {
   "codemirror_mode": {
    "name": "ipython",
    "version": 3
   },
   "file_extension": ".py",
   "mimetype": "text/x-python",
   "name": "python",
   "nbconvert_exporter": "python",
   "pygments_lexer": "ipython3",
   "version": "3.10.9"
  }
 },
 "nbformat": 4,
 "nbformat_minor": 5
}
