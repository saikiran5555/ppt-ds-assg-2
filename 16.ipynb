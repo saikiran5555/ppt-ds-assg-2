{
 "cells": [
  {
   "cell_type": "markdown",
   "id": "4fb611fc",
   "metadata": {},
   "source": [
    "Python function to check if a given list is sorted in non-decreasing order:"
   ]
  },
  {
   "cell_type": "code",
   "execution_count": 1,
   "id": "b9ffb10a",
   "metadata": {},
   "outputs": [
    {
     "name": "stdout",
     "output_type": "stream",
     "text": [
      "List 1 is sorted: True\n",
      "List 2 is sorted: False\n"
     ]
    }
   ],
   "source": [
    "def is_sorted(numbers):\n",
    "    n = len(numbers)\n",
    "    for i in range(1, n):\n",
    "        if numbers[i] < numbers[i - 1]:\n",
    "            return False\n",
    "    return True\n",
    "\n",
    "# Example usage\n",
    "numbers1 = [1, 2, 3, 4, 5]\n",
    "numbers2 = [5, 3, 2, 1]\n",
    "print(\"List 1 is sorted:\", is_sorted(numbers1))\n",
    "print(\"List 2 is sorted:\", is_sorted(numbers2))\n"
   ]
  },
  {
   "cell_type": "code",
   "execution_count": null,
   "id": "1b5adeaf",
   "metadata": {},
   "outputs": [],
   "source": []
  }
 ],
 "metadata": {
  "kernelspec": {
   "display_name": "Python 3 (ipykernel)",
   "language": "python",
   "name": "python3"
  },
  "language_info": {
   "codemirror_mode": {
    "name": "ipython",
    "version": 3
   },
   "file_extension": ".py",
   "mimetype": "text/x-python",
   "name": "python",
   "nbconvert_exporter": "python",
   "pygments_lexer": "ipython3",
   "version": "3.10.9"
  }
 },
 "nbformat": 4,
 "nbformat_minor": 5
}
