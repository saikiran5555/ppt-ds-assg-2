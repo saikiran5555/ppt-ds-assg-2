{
 "cells": [
  {
   "cell_type": "markdown",
   "id": "31918603",
   "metadata": {},
   "source": [
    "Python function to check if a given number is a power of two:"
   ]
  },
  {
   "cell_type": "code",
   "execution_count": 1,
   "id": "50e26094",
   "metadata": {},
   "outputs": [
    {
     "name": "stdout",
     "output_type": "stream",
     "text": [
      "16 is a power of two.\n"
     ]
    }
   ],
   "source": [
    "def is_power_of_two(number):\n",
    "    if number <= 0:\n",
    "        return False\n",
    "    else:\n",
    "        return (number & (number - 1)) == 0\n",
    "\n",
    "# Example usage\n",
    "num = 16\n",
    "if is_power_of_two(num):\n",
    "    print(num, \"is a power of two.\")\n",
    "else:\n",
    "    print(num, \"is not a power of two.\")\n"
   ]
  },
  {
   "cell_type": "code",
   "execution_count": null,
   "id": "f40bd8ae",
   "metadata": {},
   "outputs": [],
   "source": []
  }
 ],
 "metadata": {
  "kernelspec": {
   "display_name": "Python 3 (ipykernel)",
   "language": "python",
   "name": "python3"
  },
  "language_info": {
   "codemirror_mode": {
    "name": "ipython",
    "version": 3
   },
   "file_extension": ".py",
   "mimetype": "text/x-python",
   "name": "python",
   "nbconvert_exporter": "python",
   "pygments_lexer": "ipython3",
   "version": "3.10.9"
  }
 },
 "nbformat": 4,
 "nbformat_minor": 5
}
