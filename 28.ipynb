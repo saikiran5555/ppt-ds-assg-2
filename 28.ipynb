{
 "cells": [
  {
   "cell_type": "markdown",
   "id": "38eb5579",
   "metadata": {},
   "source": [
    "Python function to calculate the square root of a given number:"
   ]
  },
  {
   "cell_type": "code",
   "execution_count": 1,
   "id": "dc26b559",
   "metadata": {},
   "outputs": [
    {
     "name": "stdout",
     "output_type": "stream",
     "text": [
      "Square root of 25 is: 5.000000000016778\n"
     ]
    }
   ],
   "source": [
    "def square_root(number):\n",
    "    if number < 0:\n",
    "        raise ValueError(\"Cannot calculate square root of a negative number.\")\n",
    "    guess = number / 2\n",
    "    while True:\n",
    "        new_guess = (guess + number / guess) / 2\n",
    "        if abs(new_guess - guess) < 0.0001:\n",
    "            return new_guess\n",
    "        guess = new_guess\n",
    "\n",
    "# Example usage\n",
    "num = 25\n",
    "result = square_root(num)\n",
    "print(\"Square root of\", num, \"is:\", result)\n"
   ]
  },
  {
   "cell_type": "code",
   "execution_count": null,
   "id": "a7d9b680",
   "metadata": {},
   "outputs": [],
   "source": []
  }
 ],
 "metadata": {
  "kernelspec": {
   "display_name": "Python 3 (ipykernel)",
   "language": "python",
   "name": "python3"
  },
  "language_info": {
   "codemirror_mode": {
    "name": "ipython",
    "version": 3
   },
   "file_extension": ".py",
   "mimetype": "text/x-python",
   "name": "python",
   "nbconvert_exporter": "python",
   "pygments_lexer": "ipython3",
   "version": "3.10.9"
  }
 },
 "nbformat": 4,
 "nbformat_minor": 5
}
