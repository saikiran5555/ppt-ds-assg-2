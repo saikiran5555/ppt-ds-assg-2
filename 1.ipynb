{
 "cells": [
  {
   "cell_type": "markdown",
   "id": "7104448a",
   "metadata": {},
   "source": [
    "Here's a Python program that reverses a string without using any built-in string reversal functions:"
   ]
  },
  {
   "cell_type": "code",
   "execution_count": 1,
   "id": "874651c7",
   "metadata": {},
   "outputs": [
    {
     "name": "stdout",
     "output_type": "stream",
     "text": [
      "!dlroW ,olleH\n"
     ]
    }
   ],
   "source": [
    "def reverse_string(input_string):\n",
    "    reversed_string = \"\"\n",
    "    for i in range(len(input_string) - 1, -1, -1):\n",
    "        reversed_string += input_string[i]\n",
    "    return reversed_string\n",
    "\n",
    "# Example usage\n",
    "string_to_reverse = \"Hello, World!\"\n",
    "reversed_string = reverse_string(string_to_reverse)\n",
    "print(reversed_string)\n"
   ]
  },
  {
   "cell_type": "code",
   "execution_count": null,
   "id": "63573db4",
   "metadata": {},
   "outputs": [],
   "source": []
  }
 ],
 "metadata": {
  "kernelspec": {
   "display_name": "Python 3 (ipykernel)",
   "language": "python",
   "name": "python3"
  },
  "language_info": {
   "codemirror_mode": {
    "name": "ipython",
    "version": 3
   },
   "file_extension": ".py",
   "mimetype": "text/x-python",
   "name": "python",
   "nbconvert_exporter": "python",
   "pygments_lexer": "ipython3",
   "version": "3.10.9"
  }
 },
 "nbformat": 4,
 "nbformat_minor": 5
}
