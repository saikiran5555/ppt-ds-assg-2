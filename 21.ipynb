{
 "cells": [
  {
   "cell_type": "markdown",
   "id": "f6f548cf",
   "metadata": {},
   "source": [
    "Python program to check if two strings are anagrams of each other:"
   ]
  },
  {
   "cell_type": "code",
   "execution_count": 1,
   "id": "897f973c",
   "metadata": {},
   "outputs": [
    {
     "name": "stdout",
     "output_type": "stream",
     "text": [
      "The two strings are anagrams.\n"
     ]
    }
   ],
   "source": [
    "def are_anagrams(string1, string2):\n",
    "    string1 = string1.lower()\n",
    "    string2 = string2.lower()\n",
    "    if len(string1) != len(string2):\n",
    "        return False\n",
    "    else:\n",
    "        sorted_string1 = sorted(string1)\n",
    "        sorted_string2 = sorted(string2)\n",
    "        if sorted_string1 == sorted_string2:\n",
    "            return True\n",
    "        else:\n",
    "            return False\n",
    "\n",
    "# Example usage\n",
    "str1 = \"listen\"\n",
    "str2 = \"silent\"\n",
    "if are_anagrams(str1, str2):\n",
    "    print(\"The two strings are anagrams.\")\n",
    "else:\n",
    "    print(\"The two strings are not anagrams.\")\n"
   ]
  },
  {
   "cell_type": "code",
   "execution_count": null,
   "id": "fb298378",
   "metadata": {},
   "outputs": [],
   "source": []
  }
 ],
 "metadata": {
  "kernelspec": {
   "display_name": "Python 3 (ipykernel)",
   "language": "python",
   "name": "python3"
  },
  "language_info": {
   "codemirror_mode": {
    "name": "ipython",
    "version": 3
   },
   "file_extension": ".py",
   "mimetype": "text/x-python",
   "name": "python",
   "nbconvert_exporter": "python",
   "pygments_lexer": "ipython3",
   "version": "3.10.9"
  }
 },
 "nbformat": 4,
 "nbformat_minor": 5
}
