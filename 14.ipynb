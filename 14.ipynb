{
 "cells": [
  {
   "cell_type": "markdown",
   "id": "52b01af6",
   "metadata": {},
   "source": [
    "Python function to calculate the Fibonacci sequence up to a given number of terms:"
   ]
  },
  {
   "cell_type": "code",
   "execution_count": 1,
   "id": "db543b5d",
   "metadata": {},
   "outputs": [
    {
     "name": "stdout",
     "output_type": "stream",
     "text": [
      "Fibonacci sequence up to 10 terms: [0, 1, 1, 2, 3, 5, 8, 13, 21, 34]\n"
     ]
    }
   ],
   "source": [
    "def fibonacci_sequence(num_terms):\n",
    "    sequence = []\n",
    "    if num_terms <= 0:\n",
    "        return sequence\n",
    "    elif num_terms == 1:\n",
    "        sequence.append(0)\n",
    "    elif num_terms == 2:\n",
    "        sequence.extend([0, 1])\n",
    "    else:\n",
    "        sequence.extend([0, 1])\n",
    "        for i in range(2, num_terms):\n",
    "            next_term = sequence[i - 1] + sequence[i - 2]\n",
    "            sequence.append(next_term)\n",
    "    return sequence\n",
    "\n",
    "# Example usage\n",
    "terms = 10\n",
    "fibonacci = fibonacci_sequence(terms)\n",
    "print(\"Fibonacci sequence up to\", terms, \"terms:\", fibonacci)\n"
   ]
  },
  {
   "cell_type": "code",
   "execution_count": null,
   "id": "0012a60c",
   "metadata": {},
   "outputs": [],
   "source": []
  }
 ],
 "metadata": {
  "kernelspec": {
   "display_name": "Python 3 (ipykernel)",
   "language": "python",
   "name": "python3"
  },
  "language_info": {
   "codemirror_mode": {
    "name": "ipython",
    "version": 3
   },
   "file_extension": ".py",
   "mimetype": "text/x-python",
   "name": "python",
   "nbconvert_exporter": "python",
   "pygments_lexer": "ipython3",
   "version": "3.10.9"
  }
 },
 "nbformat": 4,
 "nbformat_minor": 5
}
