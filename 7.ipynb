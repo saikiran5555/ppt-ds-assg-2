{
 "cells": [
  {
   "cell_type": "markdown",
   "id": "0efa7d27",
   "metadata": {},
   "source": [
    "Python program to calculate the factorial of a given number:"
   ]
  },
  {
   "cell_type": "code",
   "execution_count": 1,
   "id": "690eddf1",
   "metadata": {},
   "outputs": [
    {
     "name": "stdout",
     "output_type": "stream",
     "text": [
      "The factorial of 5 is: 120\n"
     ]
    }
   ],
   "source": [
    "def factorial(n):\n",
    "    if n < 0:\n",
    "        return None\n",
    "    elif n == 0:\n",
    "        return 1\n",
    "    else:\n",
    "        result = 1\n",
    "        for i in range(1, n + 1):\n",
    "            result *= i\n",
    "        return result\n",
    "\n",
    "# Example usage\n",
    "number = 5\n",
    "fact = factorial(number)\n",
    "if fact is not None:\n",
    "    print(\"The factorial of\", number, \"is:\", fact)\n",
    "else:\n",
    "    print(\"Cannot calculate factorial of a negative number.\")\n"
   ]
  },
  {
   "cell_type": "code",
   "execution_count": null,
   "id": "a42ce1b6",
   "metadata": {},
   "outputs": [],
   "source": []
  }
 ],
 "metadata": {
  "kernelspec": {
   "display_name": "Python 3 (ipykernel)",
   "language": "python",
   "name": "python3"
  },
  "language_info": {
   "codemirror_mode": {
    "name": "ipython",
    "version": 3
   },
   "file_extension": ".py",
   "mimetype": "text/x-python",
   "name": "python",
   "nbconvert_exporter": "python",
   "pygments_lexer": "ipython3",
   "version": "3.10.9"
  }
 },
 "nbformat": 4,
 "nbformat_minor": 5
}
