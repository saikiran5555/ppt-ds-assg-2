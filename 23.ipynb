{
 "cells": [
  {
   "cell_type": "markdown",
   "id": "a0f7e1ed",
   "metadata": {},
   "source": [
    "Python program to find the prime factors of a given number:"
   ]
  },
  {
   "cell_type": "code",
   "execution_count": 1,
   "id": "f797339f",
   "metadata": {},
   "outputs": [
    {
     "name": "stdout",
     "output_type": "stream",
     "text": [
      "Prime factors of 84 are: [2, 2, 3, 7]\n"
     ]
    }
   ],
   "source": [
    "def find_prime_factors(number):\n",
    "    prime_factors = []\n",
    "    divisor = 2\n",
    "    while divisor <= number:\n",
    "        if number % divisor == 0:\n",
    "            prime_factors.append(divisor)\n",
    "            number = number / divisor\n",
    "        else:\n",
    "            divisor += 1\n",
    "    return prime_factors\n",
    "\n",
    "# Example usage\n",
    "number = 84\n",
    "prime_factors = find_prime_factors(number)\n",
    "print(\"Prime factors of\", number, \"are:\", prime_factors)\n"
   ]
  },
  {
   "cell_type": "code",
   "execution_count": null,
   "id": "ea00d098",
   "metadata": {},
   "outputs": [],
   "source": []
  }
 ],
 "metadata": {
  "kernelspec": {
   "display_name": "Python 3 (ipykernel)",
   "language": "python",
   "name": "python3"
  },
  "language_info": {
   "codemirror_mode": {
    "name": "ipython",
    "version": 3
   },
   "file_extension": ".py",
   "mimetype": "text/x-python",
   "name": "python",
   "nbconvert_exporter": "python",
   "pygments_lexer": "ipython3",
   "version": "3.10.9"
  }
 },
 "nbformat": 4,
 "nbformat_minor": 5
}
