{
 "cells": [
  {
   "cell_type": "markdown",
   "id": "6acba4e6",
   "metadata": {},
   "source": [
    " Python program to find the smallest missing positive integer in a list:"
   ]
  },
  {
   "cell_type": "code",
   "execution_count": 1,
   "id": "ede8c464",
   "metadata": {},
   "outputs": [
    {
     "name": "stdout",
     "output_type": "stream",
     "text": [
      "Smallest missing positive integer: 2\n"
     ]
    }
   ],
   "source": [
    "def find_smallest_missing_positive(nums):\n",
    "    n = len(nums)\n",
    "\n",
    "    # Step 1: Move all non-positive numbers to the left side of the list\n",
    "    i = 0\n",
    "    while i < n:\n",
    "        if nums[i] > 0 and nums[i] <= n and nums[nums[i] - 1] != nums[i]:\n",
    "            # Swap the current number with the number at its correct position\n",
    "            nums[nums[i] - 1], nums[i] = nums[i], nums[nums[i] - 1]\n",
    "        else:\n",
    "            i += 1\n",
    "\n",
    "    # Step 2: Find the smallest missing positive number\n",
    "    for i in range(n):\n",
    "        if nums[i] != i + 1:\n",
    "            return i + 1\n",
    "\n",
    "    # If all positive integers from 1 to n are present, the smallest missing positive is n + 1\n",
    "    return n + 1\n",
    "\n",
    "# Example usage\n",
    "my_list = [3, 4, -1, 1]\n",
    "result = find_smallest_missing_positive(my_list)\n",
    "print(\"Smallest missing positive integer:\", result)\n"
   ]
  },
  {
   "cell_type": "code",
   "execution_count": null,
   "id": "0ce21c75",
   "metadata": {},
   "outputs": [],
   "source": []
  }
 ],
 "metadata": {
  "kernelspec": {
   "display_name": "Python 3 (ipykernel)",
   "language": "python",
   "name": "python3"
  },
  "language_info": {
   "codemirror_mode": {
    "name": "ipython",
    "version": 3
   },
   "file_extension": ".py",
   "mimetype": "text/x-python",
   "name": "python",
   "nbconvert_exporter": "python",
   "pygments_lexer": "ipython3",
   "version": "3.10.9"
  }
 },
 "nbformat": 4,
 "nbformat_minor": 5
}
