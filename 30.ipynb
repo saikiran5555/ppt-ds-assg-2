{
 "cells": [
  {
   "cell_type": "markdown",
   "id": "99077f3c",
   "metadata": {},
   "source": [
    "Python function to find the minimum element in a rotated sorted list:"
   ]
  },
  {
   "cell_type": "code",
   "execution_count": 1,
   "id": "69cf8113",
   "metadata": {},
   "outputs": [
    {
     "name": "stdout",
     "output_type": "stream",
     "text": [
      "Minimum element: 0\n"
     ]
    }
   ],
   "source": [
    "def find_minimum_rotated(nums):\n",
    "    left = 0\n",
    "    right = len(nums) - 1\n",
    "\n",
    "    # If the list is not rotated, the first element is the minimum\n",
    "    if nums[left] <= nums[right]:\n",
    "        return nums[left]\n",
    "\n",
    "    while left <= right:\n",
    "        mid = (left + right) // 2\n",
    "\n",
    "        # Check if mid element is the minimum\n",
    "        if nums[mid] > nums[mid + 1]:\n",
    "            return nums[mid + 1]\n",
    "\n",
    "        # Check if mid element is the maximum\n",
    "        if nums[mid] < nums[mid - 1]:\n",
    "            return nums[mid]\n",
    "\n",
    "        # If the mid element is greater than the leftmost element,\n",
    "        # the minimum is on the right side of the mid element\n",
    "        if nums[mid] >= nums[left]:\n",
    "            left = mid + 1\n",
    "        # Otherwise, the minimum is on the left side of the mid element\n",
    "        else:\n",
    "            right = mid - 1\n",
    "\n",
    "    return -1  # If the list is empty or invalid\n",
    "\n",
    "# Example usage\n",
    "nums = [4, 5, 6, 7, 0, 1, 2]\n",
    "minimum = find_minimum_rotated(nums)\n",
    "print(\"Minimum element:\", minimum)\n"
   ]
  },
  {
   "cell_type": "code",
   "execution_count": null,
   "id": "22c38cd9",
   "metadata": {},
   "outputs": [],
   "source": []
  }
 ],
 "metadata": {
  "kernelspec": {
   "display_name": "Python 3 (ipykernel)",
   "language": "python",
   "name": "python3"
  },
  "language_info": {
   "codemirror_mode": {
    "name": "ipython",
    "version": 3
   },
   "file_extension": ".py",
   "mimetype": "text/x-python",
   "name": "python",
   "nbconvert_exporter": "python",
   "pygments_lexer": "ipython3",
   "version": "3.10.9"
  }
 },
 "nbformat": 4,
 "nbformat_minor": 5
}
