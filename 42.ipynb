{
 "cells": [
  {
   "cell_type": "markdown",
   "id": "733b4d52",
   "metadata": {},
   "source": [
    "Python function to find the longest palindrome substring in a given string:"
   ]
  },
  {
   "cell_type": "code",
   "execution_count": 1,
   "id": "e4eb8d67",
   "metadata": {},
   "outputs": [
    {
     "name": "stdout",
     "output_type": "stream",
     "text": [
      "Longest palindrome substring: bab\n"
     ]
    }
   ],
   "source": [
    "def longest_palindrome_substring(string):\n",
    "    # Function to expand around the center of a palindrome\n",
    "    def expand_around_center(string, left, right):\n",
    "        while left >= 0 and right < len(string) and string[left] == string[right]:\n",
    "            left -= 1\n",
    "            right += 1\n",
    "        return string[left + 1:right]\n",
    "\n",
    "    # Initialize variables for the longest palindrome substring\n",
    "    longest_palindrome = \"\"\n",
    "    max_length = 0\n",
    "\n",
    "    # Iterate through each character in the string as a potential center\n",
    "    for i in range(len(string)):\n",
    "        # Find the longest odd-length palindrome with the current character as the center\n",
    "        odd_palindrome = expand_around_center(string, i, i)\n",
    "        if len(odd_palindrome) > max_length:\n",
    "            longest_palindrome = odd_palindrome\n",
    "            max_length = len(odd_palindrome)\n",
    "\n",
    "        # Find the longest even-length palindrome with the current character and its right neighbor as the center\n",
    "        even_palindrome = expand_around_center(string, i, i + 1)\n",
    "        if len(even_palindrome) > max_length:\n",
    "            longest_palindrome = even_palindrome\n",
    "            max_length = len(even_palindrome)\n",
    "\n",
    "    return longest_palindrome\n",
    "\n",
    "# Example usage\n",
    "my_string = \"babad\"\n",
    "result = longest_palindrome_substring(my_string)\n",
    "print(\"Longest palindrome substring:\", result)\n"
   ]
  },
  {
   "cell_type": "code",
   "execution_count": null,
   "id": "e652e7f6",
   "metadata": {},
   "outputs": [],
   "source": []
  }
 ],
 "metadata": {
  "kernelspec": {
   "display_name": "Python 3 (ipykernel)",
   "language": "python",
   "name": "python3"
  },
  "language_info": {
   "codemirror_mode": {
    "name": "ipython",
    "version": 3
   },
   "file_extension": ".py",
   "mimetype": "text/x-python",
   "name": "python",
   "nbconvert_exporter": "python",
   "pygments_lexer": "ipython3",
   "version": "3.10.9"
  }
 },
 "nbformat": 4,
 "nbformat_minor": 5
}
