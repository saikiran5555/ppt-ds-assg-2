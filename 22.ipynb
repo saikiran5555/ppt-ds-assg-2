{
 "cells": [
  {
   "cell_type": "markdown",
   "id": "fb2cdfb9",
   "metadata": {},
   "source": [
    " Python function to find the first non-repeating character in a string:"
   ]
  },
  {
   "cell_type": "code",
   "execution_count": 1,
   "id": "276a5fed",
   "metadata": {},
   "outputs": [
    {
     "name": "stdout",
     "output_type": "stream",
     "text": [
      "First non-repeating character: c\n"
     ]
    }
   ],
   "source": [
    "def first_non_repeating_character(string):\n",
    "    char_counts = {}\n",
    "    for char in string:\n",
    "        char_counts[char] = char_counts.get(char, 0) + 1\n",
    "    for char in string:\n",
    "        if char_counts[char] == 1:\n",
    "            return char\n",
    "    return None\n",
    "\n",
    "# Example usage\n",
    "string = \"abracadabra\"\n",
    "non_repeating_char = first_non_repeating_character(string)\n",
    "if non_repeating_char:\n",
    "    print(\"First non-repeating character:\", non_repeating_char)\n",
    "else:\n",
    "    print(\"No non-repeating character found.\")\n"
   ]
  },
  {
   "cell_type": "code",
   "execution_count": null,
   "id": "0a184398",
   "metadata": {},
   "outputs": [],
   "source": []
  }
 ],
 "metadata": {
  "kernelspec": {
   "display_name": "Python 3 (ipykernel)",
   "language": "python",
   "name": "python3"
  },
  "language_info": {
   "codemirror_mode": {
    "name": "ipython",
    "version": 3
   },
   "file_extension": ".py",
   "mimetype": "text/x-python",
   "name": "python",
   "nbconvert_exporter": "python",
   "pygments_lexer": "ipython3",
   "version": "3.10.9"
  }
 },
 "nbformat": 4,
 "nbformat_minor": 5
}
