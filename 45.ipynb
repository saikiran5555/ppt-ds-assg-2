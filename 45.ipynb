{
 "cells": [
  {
   "cell_type": "markdown",
   "id": "688a9aad",
   "metadata": {},
   "source": [
    "Python program to remove all duplicates from a string:"
   ]
  },
  {
   "cell_type": "code",
   "execution_count": 1,
   "id": "057f2e5a",
   "metadata": {},
   "outputs": [
    {
     "name": "stdout",
     "output_type": "stream",
     "text": [
      "String with duplicates removed: Helo Wrd\n"
     ]
    }
   ],
   "source": [
    "def remove_duplicates(string):\n",
    "    # Create a set to store unique characters\n",
    "    unique_chars = set()\n",
    "\n",
    "    # Iterate through each character in the string\n",
    "    # and add it to the set if it is not already present\n",
    "    result = \"\"\n",
    "    for char in string:\n",
    "        if char not in unique_chars:\n",
    "            unique_chars.add(char)\n",
    "            result += char\n",
    "\n",
    "    return result\n",
    "\n",
    "# Example usage\n",
    "my_string = \"Hello World\"\n",
    "result = remove_duplicates(my_string)\n",
    "print(\"String with duplicates removed:\", result)\n"
   ]
  },
  {
   "cell_type": "code",
   "execution_count": null,
   "id": "30d34f9c",
   "metadata": {},
   "outputs": [],
   "source": []
  }
 ],
 "metadata": {
  "kernelspec": {
   "display_name": "Python 3 (ipykernel)",
   "language": "python",
   "name": "python3"
  },
  "language_info": {
   "codemirror_mode": {
    "name": "ipython",
    "version": 3
   },
   "file_extension": ".py",
   "mimetype": "text/x-python",
   "name": "python",
   "nbconvert_exporter": "python",
   "pygments_lexer": "ipython3",
   "version": "3.10.9"
  }
 },
 "nbformat": 4,
 "nbformat_minor": 5
}
